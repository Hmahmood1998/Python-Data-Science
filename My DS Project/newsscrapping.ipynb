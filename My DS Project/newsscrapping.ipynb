{
 "cells": [
  {
   "cell_type": "code",
   "execution_count": 1,
   "metadata": {},
   "outputs": [],
   "source": [
    "import requests\n",
    "from bs4 import BeautifulSoup "
   ]
  },
  {
   "cell_type": "code",
   "execution_count": 2,
   "metadata": {},
   "outputs": [],
   "source": [
    "url=\"https://www.ndtv.com/top-stories\""
   ]
  },
  {
   "cell_type": "code",
   "execution_count": 3,
   "metadata": {},
   "outputs": [],
   "source": [
    "data=requests.get(url)"
   ]
  },
  {
   "cell_type": "code",
   "execution_count": 5,
   "metadata": {},
   "outputs": [],
   "source": [
    "# data.text"
   ]
  },
  {
   "cell_type": "code",
   "execution_count": 8,
   "metadata": {},
   "outputs": [],
   "source": [
    "soup=BeautifulSoup(data.text)\n",
    "# soup"
   ]
  },
  {
   "cell_type": "code",
   "execution_count": 9,
   "metadata": {},
   "outputs": [
    {
     "name": "stdout",
     "output_type": "stream",
     "text": [
      "India's 2 New Covid Vaccines: What You Need To Know\n",
      "The two latest vaccines cleared by India are Corbevax and Covovax. The anti-viral drug Molnupiravir can be used during emergency.\n",
      "\n",
      "Tax Department Detects Rs 300 Crore Black Money After Raids On 2 Rajasthan Groups\n",
      "The Income Tax Department has detected unaccounted income totalling Rs 300 crore after it raided two Rajasthan-based groups engaged in the business of electrical goods manufacture and money lending respectively, the CBDT said on Tuesday.\n",
      "\n",
      "Women's Panel Chairperson Seeks Withdrawal Of \"Misogynist\" JNU Circular\n",
      "National Commission of Women (NCW) chairperson Rekha Sharma has sought withdrawal of a \"misogynist\" circular issued by JNU, which says girls are \"suppose to know how to draw a tangible line between them and their male friends\".\n",
      "\n",
      "Ex Cricketer Dinesh Mongia Joins BJP Ahead Of Punjab Election\n",
      "Former cricketer Dinesh Mongia joined the BJP today at a ceremony in the party's Delhi office. Mr Mongia, 44, took a primary membership of the ruling party at the centre to start his political innings, likely from Punjab.\n",
      "\n",
      "2 Punjab Congress MLAs Join BJP In Big Jolt Ahead Of Polls\n",
      "Two Punjab Congress MLAs, including a prominent leader tipped to be the party's candidate in the state election, joined the BJP today.\n",
      "\n",
      "\"League Of Legends\" Maker To Pay $100 Million In Gender Discrimination Suit\n",
      "Riot Games, maker of the massively popular \"League of Legends,\" announced Monday it had agreed to pay $100 million to settle a gender discrimination lawsuit.\n",
      "\n",
      "PM Says \"Day Of Double Happiness For Kanpur\". Heres Why\n",
      "Prime Minister Narendra Modi on Tuesday said that today is the day of double happiness for Kanpur as the city is getting metro rail facility and the world of technology is also getting priceless gifts from IIT Kanpur.\n",
      "\n",
      "PM's Kanpur Metro Ride After Launch Of New Section\n",
      "Prime Minister Narendra Modi took a ride of Kanpur Metro after launching a new section of the metro project. The prime minister was accompanied by Chief Minister Yogi Adityanath as he undertook the ride from the IIT metro station to Geeta Nagar.\n",
      "\n",
      "More Curbs In Delhi, \"Yellow Alert\", Detailed Order Soon: Arvind Kejriwal\n",
      "Arvind Kejriwal today said Delhi will have more restrictions and he would \"share a detailed order\" amid rise in Covid cases.\n",
      "\n",
      "Congress Won't Compromise On Principles: Sonia Gandhi On Foundation Day\n",
      "Congress Interim president Sonia Gandhi while addressing the party workers on the occasion of Congress foundation day said that the electoral ups and downs are inevitable but what is enduring is party's lasting commitment to the service of people.\n",
      "\n",
      "Singapore Jails Elderly Indian-Origin Man For Drunkenly Causing Annoyance\n",
      "A 65-year-old Indian-origin Singaporean was on Monday jailed for five weeks after he pleaded guilty to three harassment charges and one count of causing annoyance to others while drunk in a public place.\n",
      "\n",
      "India Emerged As \"2nd Biggest Startup Hub In World\": PM's Praise For IITs\n",
      "Prime Minister Narendra Modi on Tuesday said that India has emerged as the second biggest startup hub in the world, and this has been achieved majorly with the help of students from the Indian Institutes of Technology (IITs).\n",
      "\n",
      "Thanks For \"Priceless Gifts\" To Tech: PM Modi At IIT Kanpur Convocation\n",
      "Lauding the contribution of students, Prime Minister Narendra Modi on Tuesday said that the world of technology is getting priceless gifts from the Indian Institutes of Technology (IIT) Kanpur.\n",
      "\n",
      "Doctors vs Police At Delhi Hospital As NEET Admissions Protest Escalates\n",
      "Resident doctors had a faceoff with policemen at south Delhi's Safdarjung Hospital this morning after they were stopped from marching to the Supreme Court. The issue of new admissions to medical colleges after NEET postgraduate exam is being heard.\n",
      "\n",
      "China Orders Millions More Into Lockdown After Covid Flare-Up\n",
      "Hundreds of thousands more people were ordered to stay home in northern China Tuesday, joining millions under strict lockdown as authorities raced to contain a surge in Covid cases that have reached a 21-month high.\n",
      "\n"
     ]
    }
   ],
   "source": [
    "for row in soup.find_all('div',{'class':'news_Itm'}):\n",
    "    if not  'adBg' in row.attrs.get('class'):\n",
    "        print(row.find('h2').text)\n",
    "        print(row.find('p').text)\n",
    "        print()\n",
    " "
   ]
  },
  {
   "cell_type": "code",
   "execution_count": null,
   "metadata": {},
   "outputs": [],
   "source": []
  }
 ],
 "metadata": {
  "interpreter": {
   "hash": "8da01e5a71448ea74f54d88afa8911010d1d12e23bc7e103d40d5def4a09152c"
  },
  "kernelspec": {
   "display_name": "Python 3.9.8 64-bit",
   "language": "python",
   "name": "python3"
  },
  "language_info": {
   "codemirror_mode": {
    "name": "ipython",
    "version": 3
   },
   "file_extension": ".py",
   "mimetype": "text/x-python",
   "name": "python",
   "nbconvert_exporter": "python",
   "pygments_lexer": "ipython3",
   "version": "3.9.8"
  },
  "orig_nbformat": 4
 },
 "nbformat": 4,
 "nbformat_minor": 2
}
